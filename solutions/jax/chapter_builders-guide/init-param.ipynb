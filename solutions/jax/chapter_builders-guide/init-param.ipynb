{
 "cells": [
  {
   "cell_type": "markdown",
   "id": "dbb0a35a",
   "metadata": {
    "origin_pos": 1
   },
   "source": [
    "# Parameter Initialization\n",
    "\n",
    "Now that we know how to access the parameters,\n",
    "let's look at how to initialize them properly.\n",
    "We discussed the need for proper initialization in :numref:`sec_numerical_stability`.\n",
    "The deep learning framework provides default random initializations to its layers.\n",
    "However, we often want to initialize our weights\n",
    "according to various other protocols. The framework provides most commonly\n",
    "used protocols, and also allows to create a custom initializer.\n"
   ]
  },
  {
   "cell_type": "code",
   "execution_count": 1,
   "id": "cf98f2a1",
   "metadata": {
    "execution": {
     "iopub.execute_input": "2023-02-10T06:34:45.437990Z",
     "iopub.status.busy": "2023-02-10T06:34:45.437733Z",
     "iopub.status.idle": "2023-02-10T06:34:52.134951Z",
     "shell.execute_reply": "2023-02-10T06:34:52.133804Z"
    },
    "origin_pos": 5,
    "tab": [
     "jax"
    ]
   },
   "outputs": [
    {
     "name": "stdout",
     "output_type": "stream",
     "text": [
      "No GPU/TPU found, falling back to CPU. (Set TF_CPP_MIN_LOG_LEVEL=0 and rerun for more info.)\n"
     ]
    }
   ],
   "source": [
    "import jax\n",
    "from flax import linen as nn\n",
    "from jax import numpy as jnp\n",
    "from d2l import jax as d2l"
   ]
  },
  {
   "cell_type": "markdown",
   "id": "ac2a49a8",
   "metadata": {
    "origin_pos": 9,
    "tab": [
     "jax"
    ]
   },
   "source": [
    "By default, Flax initializes weights using `jax.nn.initializers.lecun_normal`,\n",
    "i.e., by drawing samples from a truncated normal distribution centered on 0 with\n",
    "the standard deviation set as the squared root of $1 / \\text{fan}_{\\text{in}}$\n",
    "where `fan_in` is the number of input units in the weight tensor. The bias\n",
    "parameters are all set to zero.\n",
    "Jax's `nn.initializers` module provides a variety\n",
    "of preset initialization methods.\n"
   ]
  },
  {
   "cell_type": "code",
   "execution_count": 2,
   "id": "95b5348c",
   "metadata": {
    "execution": {
     "iopub.execute_input": "2023-02-10T06:34:52.139961Z",
     "iopub.status.busy": "2023-02-10T06:34:52.139343Z",
     "iopub.status.idle": "2023-02-10T06:34:53.063137Z",
     "shell.execute_reply": "2023-02-10T06:34:53.062236Z"
    },
    "origin_pos": 13,
    "tab": [
     "jax"
    ]
   },
   "outputs": [
    {
     "data": {
      "text/plain": [
       "(2, 1)"
      ]
     },
     "execution_count": 2,
     "metadata": {},
     "output_type": "execute_result"
    }
   ],
   "source": [
    "net = nn.Sequential([nn.Dense(8), nn.relu, nn.Dense(1)])\n",
    "X = jax.random.uniform(d2l.get_key(), (2, 4))\n",
    "params = net.init(d2l.get_key(), X)\n",
    "net.apply(params, X).shape"
   ]
  },
  {
   "cell_type": "markdown",
   "id": "3b0803d8",
   "metadata": {
    "origin_pos": 14
   },
   "source": [
    "## [**Built-in Initialization**]\n",
    "\n",
    "Let's begin by calling on built-in initializers.\n",
    "The code below initializes all weight parameters\n",
    "as Gaussian random variables\n",
    "with standard deviation 0.01, while bias parameters cleared to zero.\n"
   ]
  },
  {
   "cell_type": "code",
   "execution_count": 3,
   "id": "19782290",
   "metadata": {
    "execution": {
     "iopub.execute_input": "2023-02-10T06:34:53.066858Z",
     "iopub.status.busy": "2023-02-10T06:34:53.066600Z",
     "iopub.status.idle": "2023-02-10T06:34:53.462414Z",
     "shell.execute_reply": "2023-02-10T06:34:53.461515Z"
    },
    "origin_pos": 18,
    "tab": [
     "jax"
    ]
   },
   "outputs": [
    {
     "data": {
      "text/plain": [
       "(Array([ 0.00196291,  0.00416906, -0.00880515, -0.00701235], dtype=float32),\n",
       " Array(0., dtype=float32))"
      ]
     },
     "execution_count": 3,
     "metadata": {},
     "output_type": "execute_result"
    }
   ],
   "source": [
    "weight_init = nn.initializers.normal(0.01)\n",
    "bias_init = nn.initializers.zeros\n",
    "\n",
    "net = nn.Sequential([nn.Dense(8, kernel_init=weight_init, bias_init=bias_init),\n",
    "                     nn.relu,\n",
    "                     nn.Dense(1, kernel_init=weight_init, bias_init=bias_init)])\n",
    "\n",
    "params = net.init(jax.random.PRNGKey(d2l.get_seed()), X)\n",
    "layer_0 = params['params']['layers_0']\n",
    "layer_0['kernel'][:, 0], layer_0['bias'][0]"
   ]
  },
  {
   "cell_type": "markdown",
   "id": "0f7b885e",
   "metadata": {
    "origin_pos": 19
   },
   "source": [
    "We can also initialize all the parameters\n",
    "to a given constant value (say, 1).\n"
   ]
  },
  {
   "cell_type": "code",
   "execution_count": 4,
   "id": "b76b388d",
   "metadata": {
    "execution": {
     "iopub.execute_input": "2023-02-10T06:34:53.465442Z",
     "iopub.status.busy": "2023-02-10T06:34:53.465189Z",
     "iopub.status.idle": "2023-02-10T06:34:53.511084Z",
     "shell.execute_reply": "2023-02-10T06:34:53.510284Z"
    },
    "origin_pos": 23,
    "tab": [
     "jax"
    ]
   },
   "outputs": [
    {
     "data": {
      "text/plain": [
       "(Array([1., 1., 1., 1.], dtype=float32), Array(0., dtype=float32))"
      ]
     },
     "execution_count": 4,
     "metadata": {},
     "output_type": "execute_result"
    }
   ],
   "source": [
    "weight_init = nn.initializers.constant(1)\n",
    "\n",
    "net = nn.Sequential([nn.Dense(8, kernel_init=weight_init, bias_init=bias_init),\n",
    "                     nn.relu,\n",
    "                     nn.Dense(1, kernel_init=weight_init, bias_init=bias_init)])\n",
    "\n",
    "params = net.init(jax.random.PRNGKey(d2l.get_seed()), X)\n",
    "layer_0 = params['params']['layers_0']\n",
    "layer_0['kernel'][:, 0], layer_0['bias'][0]"
   ]
  },
  {
   "cell_type": "markdown",
   "id": "eaa90e73",
   "metadata": {
    "origin_pos": 24
   },
   "source": [
    "[**We can also apply different initializers for certain blocks.**]\n",
    "For example, below we initialize the first layer\n",
    "with the Xavier initializer\n",
    "and initialize the second layer\n",
    "to a constant value of 42.\n"
   ]
  },
  {
   "cell_type": "code",
   "execution_count": 5,
   "id": "880fa056",
   "metadata": {
    "execution": {
     "iopub.execute_input": "2023-02-10T06:34:53.514111Z",
     "iopub.status.busy": "2023-02-10T06:34:53.513858Z",
     "iopub.status.idle": "2023-02-10T06:34:53.668039Z",
     "shell.execute_reply": "2023-02-10T06:34:53.667126Z"
    },
    "origin_pos": 28,
    "tab": [
     "jax"
    ]
   },
   "outputs": [
    {
     "data": {
      "text/plain": [
       "(Array([-0.12841032,  0.26980272,  0.57240933,  0.2627143 ], dtype=float32),\n",
       " Array([[42.],\n",
       "        [42.],\n",
       "        [42.],\n",
       "        [42.],\n",
       "        [42.],\n",
       "        [42.],\n",
       "        [42.],\n",
       "        [42.]], dtype=float32))"
      ]
     },
     "execution_count": 5,
     "metadata": {},
     "output_type": "execute_result"
    }
   ],
   "source": [
    "net = nn.Sequential([nn.Dense(8, kernel_init=nn.initializers.xavier_uniform(),\n",
    "                              bias_init=bias_init),\n",
    "                     nn.relu,\n",
    "                     nn.Dense(1, kernel_init=nn.initializers.constant(42),\n",
    "                              bias_init=bias_init)])\n",
    "\n",
    "params = net.init(jax.random.PRNGKey(d2l.get_seed()), X)\n",
    "params['params']['layers_0']['kernel'][:, 0], params['params']['layers_2']['kernel']"
   ]
  },
  {
   "cell_type": "markdown",
   "id": "31b8c3f9",
   "metadata": {
    "origin_pos": 29
   },
   "source": [
    "### [**Custom Initialization**]\n",
    "\n",
    "Sometimes, the initialization methods we need\n",
    "are not provided by the deep learning framework.\n",
    "In the example below, we define an initializer\n",
    "for any weight parameter $w$ using the following strange distribution:\n",
    "\n",
    "$$\n",
    "\\begin{aligned}\n",
    "    w \\sim \\begin{cases}\n",
    "        U(5, 10) & \\text{ with probability } \\frac{1}{4} \\\\\n",
    "            0    & \\text{ with probability } \\frac{1}{2} \\\\\n",
    "        U(-10, -5) & \\text{ with probability } \\frac{1}{4}\n",
    "    \\end{cases}\n",
    "\\end{aligned}\n",
    "$$\n"
   ]
  },
  {
   "cell_type": "markdown",
   "id": "68394b5e",
   "metadata": {
    "origin_pos": 33,
    "tab": [
     "jax"
    ]
   },
   "source": [
    "Jax initialization functions take as arguments the `PRNGKey`, `shape` and\n",
    "`dtype`. Here we implement the function `my_init` that returns a desired\n",
    "tensor given the shape and data type.\n"
   ]
  },
  {
   "cell_type": "code",
   "execution_count": 6,
   "id": "677f9f4e",
   "metadata": {
    "execution": {
     "iopub.execute_input": "2023-02-10T06:34:53.671028Z",
     "iopub.status.busy": "2023-02-10T06:34:53.670771Z",
     "iopub.status.idle": "2023-02-10T06:34:53.887726Z",
     "shell.execute_reply": "2023-02-10T06:34:53.886796Z"
    },
    "origin_pos": 37,
    "tab": [
     "jax"
    ]
   },
   "outputs": [
    {
     "name": "stdout",
     "output_type": "stream",
     "text": [
      "[[ 0.         0.       ]\n",
      " [ 0.         0.       ]\n",
      " [ 0.         0.       ]\n",
      " [-6.9971204  0.       ]]\n"
     ]
    }
   ],
   "source": [
    "def my_init(key, shape, dtype=jnp.float_):\n",
    "    data = jax.random.uniform(key, shape, minval=-10, maxval=10)\n",
    "    return data * (jnp.abs(data) >= 5)\n",
    "\n",
    "net = nn.Sequential([nn.Dense(8, kernel_init=my_init), nn.relu, nn.Dense(1)])\n",
    "params = net.init(d2l.get_key(), X)\n",
    "print(params['params']['layers_0']['kernel'][:, :2])"
   ]
  },
  {
   "cell_type": "markdown",
   "id": "70e0457d",
   "metadata": {
    "origin_pos": 39,
    "tab": [
     "jax"
    ]
   },
   "source": [
    "When initializing parameters in JAX and Flax, the the dictionary of parameters\n",
    "returned has a `flax.core.frozen_dict.FrozenDict` type. It is not advisable in\n",
    "the Jax ecosystem to directly alter the values of an array, hence the datatypes\n",
    "are generally immutable. One might use `params.unfreeze()` to make changes.\n"
   ]
  },
  {
   "cell_type": "markdown",
   "id": "64cb6ff3",
   "metadata": {
    "origin_pos": 43
   },
   "source": [
    "## Summary\n",
    "\n",
    "We can initialize parameters using built-in and custom initializers.\n",
    "\n",
    "## Exercises\n",
    "\n",
    "Look up the online documentation for more built-in initializers.\n"
   ]
  }
 ],
 "metadata": {
  "language_info": {
   "name": "python"
  }
 },
 "nbformat": 4,
 "nbformat_minor": 5
}