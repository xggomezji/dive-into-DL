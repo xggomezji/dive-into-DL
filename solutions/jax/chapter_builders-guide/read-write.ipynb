{
 "cells": [
  {
   "cell_type": "markdown",
   "id": "f70ba09b",
   "metadata": {
    "origin_pos": 1
   },
   "source": [
    "# File I/O\n",
    "\n",
    "So far we discussed how to process data and how\n",
    "to build, train, and test deep learning models.\n",
    "However, at some point, we will hopefully be happy enough\n",
    "with the learned models that we will want\n",
    "to save the results for later use in various contexts\n",
    "(perhaps even to make predictions in deployment).\n",
    "Additionally, when running a long training process,\n",
    "the best practice is to periodically save intermediate results (checkpointing)\n",
    "to ensure that we do not lose several days worth of computation\n",
    "if we trip over the power cord of our server.\n",
    "Thus it is time to learn how to load and store\n",
    "both individual weight vectors and entire models.\n",
    "This section addresses both issues.\n"
   ]
  },
  {
   "cell_type": "code",
   "execution_count": 1,
   "id": "0613de67",
   "metadata": {
    "execution": {
     "iopub.execute_input": "2023-02-10T06:34:17.578601Z",
     "iopub.status.busy": "2023-02-10T06:34:17.578223Z",
     "iopub.status.idle": "2023-02-10T06:34:25.071185Z",
     "shell.execute_reply": "2023-02-10T06:34:25.070200Z"
    },
    "origin_pos": 5,
    "tab": [
     "jax"
    ]
   },
   "outputs": [
    {
     "name": "stdout",
     "output_type": "stream",
     "text": [
      "No GPU/TPU found, falling back to CPU. (Set TF_CPP_MIN_LOG_LEVEL=0 and rerun for more info.)\n"
     ]
    }
   ],
   "source": [
    "import flax\n",
    "import jax\n",
    "from flax import linen as nn\n",
    "from flax.training import checkpoints\n",
    "from jax import numpy as jnp\n",
    "from d2l import jax as d2l"
   ]
  },
  {
   "cell_type": "markdown",
   "id": "1854dc32",
   "metadata": {
    "origin_pos": 6
   },
   "source": [
    "## (**Loading and Saving Tensors**)\n",
    "\n",
    "For individual tensors, we can directly\n",
    "invoke the `load` and `save` functions\n",
    "to read and write them respectively.\n",
    "Both functions require that we supply a name,\n",
    "and `save` requires as input the variable to be saved.\n"
   ]
  },
  {
   "cell_type": "code",
   "execution_count": 2,
   "id": "73c44c49",
   "metadata": {
    "execution": {
     "iopub.execute_input": "2023-02-10T06:34:25.075130Z",
     "iopub.status.busy": "2023-02-10T06:34:25.074335Z",
     "iopub.status.idle": "2023-02-10T06:34:25.092493Z",
     "shell.execute_reply": "2023-02-10T06:34:25.091412Z"
    },
    "origin_pos": 10,
    "tab": [
     "jax"
    ]
   },
   "outputs": [],
   "source": [
    "x = jnp.arange(4)\n",
    "jnp.save('x-file.npy', x)"
   ]
  },
  {
   "cell_type": "markdown",
   "id": "f466ac5a",
   "metadata": {
    "origin_pos": 11
   },
   "source": [
    "We can now read the data from the stored file back into memory.\n"
   ]
  },
  {
   "cell_type": "code",
   "execution_count": 3,
   "id": "0bb7b669",
   "metadata": {
    "execution": {
     "iopub.execute_input": "2023-02-10T06:34:25.095999Z",
     "iopub.status.busy": "2023-02-10T06:34:25.095744Z",
     "iopub.status.idle": "2023-02-10T06:34:25.103816Z",
     "shell.execute_reply": "2023-02-10T06:34:25.103167Z"
    },
    "origin_pos": 15,
    "tab": [
     "jax"
    ]
   },
   "outputs": [
    {
     "data": {
      "text/plain": [
       "Array([0, 1, 2, 3], dtype=int32)"
      ]
     },
     "execution_count": 3,
     "metadata": {},
     "output_type": "execute_result"
    }
   ],
   "source": [
    "x2 = jnp.load('x-file.npy', allow_pickle=True)\n",
    "x2"
   ]
  },
  {
   "cell_type": "markdown",
   "id": "6b26537b",
   "metadata": {
    "origin_pos": 16
   },
   "source": [
    "We can [**store a list of tensors and read them back into memory.**]\n"
   ]
  },
  {
   "cell_type": "code",
   "execution_count": 4,
   "id": "d0a351b2",
   "metadata": {
    "execution": {
     "iopub.execute_input": "2023-02-10T06:34:25.106835Z",
     "iopub.status.busy": "2023-02-10T06:34:25.106580Z",
     "iopub.status.idle": "2023-02-10T06:34:25.149998Z",
     "shell.execute_reply": "2023-02-10T06:34:25.149272Z"
    },
    "origin_pos": 20,
    "tab": [
     "jax"
    ]
   },
   "outputs": [
    {
     "data": {
      "text/plain": [
       "(Array([0., 1., 2., 3.], dtype=float32),\n",
       " Array([0., 0., 0., 0.], dtype=float32))"
      ]
     },
     "execution_count": 4,
     "metadata": {},
     "output_type": "execute_result"
    }
   ],
   "source": [
    "y = jnp.zeros(4)\n",
    "jnp.save('xy-files.npy', [x, y])\n",
    "x2, y2 = jnp.load('xy-files.npy', allow_pickle=True)\n",
    "(x2, y2)"
   ]
  },
  {
   "cell_type": "markdown",
   "id": "c8abdc90",
   "metadata": {
    "origin_pos": 21
   },
   "source": [
    "We can even [**write and read a dictionary that maps\n",
    "from strings to tensors.**]\n",
    "This is convenient when we want\n",
    "to read or write all the weights in a model.\n"
   ]
  },
  {
   "cell_type": "code",
   "execution_count": 5,
   "id": "b13ea5cd",
   "metadata": {
    "execution": {
     "iopub.execute_input": "2023-02-10T06:34:25.153364Z",
     "iopub.status.busy": "2023-02-10T06:34:25.153108Z",
     "iopub.status.idle": "2023-02-10T06:34:25.161171Z",
     "shell.execute_reply": "2023-02-10T06:34:25.160531Z"
    },
    "origin_pos": 25,
    "tab": [
     "jax"
    ]
   },
   "outputs": [
    {
     "data": {
      "text/plain": [
       "array({'x': Array([0, 1, 2, 3], dtype=int32), 'y': Array([0., 0., 0., 0.], dtype=float32)},\n",
       "      dtype=object)"
      ]
     },
     "execution_count": 5,
     "metadata": {},
     "output_type": "execute_result"
    }
   ],
   "source": [
    "mydict = {'x': x, 'y': y}\n",
    "jnp.save('mydict.npy', mydict)\n",
    "mydict2 = jnp.load('mydict.npy', allow_pickle=True)\n",
    "mydict2"
   ]
  },
  {
   "cell_type": "markdown",
   "id": "9682e43c",
   "metadata": {
    "origin_pos": 26
   },
   "source": [
    "## [**Loading and Saving Model Parameters**]\n",
    "\n",
    "Saving individual weight vectors (or other tensors) is useful,\n",
    "but it gets very tedious if we want to save\n",
    "(and later load) an entire model.\n",
    "After all, we might have hundreds of\n",
    "parameter groups sprinkled throughout.\n",
    "For this reason the deep learning framework provides built-in functionalities\n",
    "to load and save entire networks.\n",
    "An important detail to note is that this\n",
    "saves model *parameters* and not the entire model.\n",
    "For example, if we have a 3-layer MLP,\n",
    "we need to specify the architecture separately.\n",
    "The reason for this is that the models themselves can contain arbitrary code,\n",
    "hence they cannot be serialized as naturally.\n",
    "Thus, in order to reinstate a model, we need\n",
    "to generate the architecture in code\n",
    "and then load the parameters from disk.\n",
    "(**Let's start with our familiar MLP.**)\n"
   ]
  },
  {
   "cell_type": "code",
   "execution_count": 6,
   "id": "2b18274b",
   "metadata": {
    "execution": {
     "iopub.execute_input": "2023-02-10T06:34:25.164654Z",
     "iopub.status.busy": "2023-02-10T06:34:25.164350Z",
     "iopub.status.idle": "2023-02-10T06:34:26.145707Z",
     "shell.execute_reply": "2023-02-10T06:34:26.144853Z"
    },
    "origin_pos": 30,
    "tab": [
     "jax"
    ]
   },
   "outputs": [],
   "source": [
    "class MLP(nn.Module):\n",
    "    def setup(self):\n",
    "        self.hidden = nn.Dense(256)\n",
    "        self.output = nn.Dense(10)\n",
    "\n",
    "    def __call__(self, x):\n",
    "        return self.output(nn.relu(self.hidden(x)))\n",
    "\n",
    "net = MLP()\n",
    "X = jax.random.normal(jax.random.PRNGKey(d2l.get_seed()), (2, 20))\n",
    "Y, params = net.init_with_output(jax.random.PRNGKey(d2l.get_seed()), X)"
   ]
  },
  {
   "cell_type": "markdown",
   "id": "7ed4f1ea",
   "metadata": {
    "origin_pos": 31
   },
   "source": [
    "Next, we [**store the parameters of the model as a file**] with the name \"mlp.params\".\n"
   ]
  },
  {
   "cell_type": "code",
   "execution_count": 7,
   "id": "79c09554",
   "metadata": {
    "execution": {
     "iopub.execute_input": "2023-02-10T06:34:26.149038Z",
     "iopub.status.busy": "2023-02-10T06:34:26.148781Z",
     "iopub.status.idle": "2023-02-10T06:34:26.155002Z",
     "shell.execute_reply": "2023-02-10T06:34:26.154336Z"
    },
    "origin_pos": 35,
    "tab": [
     "jax"
    ]
   },
   "outputs": [
    {
     "data": {
      "text/plain": [
       "'ckpt_dir/checkpoint_1'"
      ]
     },
     "execution_count": 7,
     "metadata": {},
     "output_type": "execute_result"
    }
   ],
   "source": [
    "checkpoints.save_checkpoint('ckpt_dir', params, step=1, overwrite=True)"
   ]
  },
  {
   "cell_type": "markdown",
   "id": "9ff19798",
   "metadata": {
    "origin_pos": 36
   },
   "source": [
    "To recover the model, we instantiate a clone\n",
    "of the original MLP model.\n",
    "Instead of randomly initializing the model parameters,\n",
    "we [**read the parameters stored in the file directly**].\n"
   ]
  },
  {
   "cell_type": "code",
   "execution_count": 8,
   "id": "0d332764",
   "metadata": {
    "execution": {
     "iopub.execute_input": "2023-02-10T06:34:26.157661Z",
     "iopub.status.busy": "2023-02-10T06:34:26.157416Z",
     "iopub.status.idle": "2023-02-10T06:34:26.162785Z",
     "shell.execute_reply": "2023-02-10T06:34:26.162100Z"
    },
    "origin_pos": 40,
    "tab": [
     "jax"
    ]
   },
   "outputs": [],
   "source": [
    "clone = MLP()\n",
    "cloned_params = flax.core.freeze(checkpoints.restore_checkpoint('ckpt_dir',\n",
    "                                                                target=None))"
   ]
  },
  {
   "cell_type": "markdown",
   "id": "470b3c47",
   "metadata": {
    "origin_pos": 41
   },
   "source": [
    "Since both instances have the same model parameters,\n",
    "the computational result of the same input `X` should be the same.\n",
    "Let's verify this.\n"
   ]
  },
  {
   "cell_type": "code",
   "execution_count": 9,
   "id": "0b627cd9",
   "metadata": {
    "execution": {
     "iopub.execute_input": "2023-02-10T06:34:26.165457Z",
     "iopub.status.busy": "2023-02-10T06:34:26.165212Z",
     "iopub.status.idle": "2023-02-10T06:34:26.238089Z",
     "shell.execute_reply": "2023-02-10T06:34:26.237396Z"
    },
    "origin_pos": 43,
    "tab": [
     "jax"
    ]
   },
   "outputs": [
    {
     "data": {
      "text/plain": [
       "Array([[ True,  True,  True,  True,  True,  True,  True,  True,  True,\n",
       "         True],\n",
       "       [ True,  True,  True,  True,  True,  True,  True,  True,  True,\n",
       "         True]], dtype=bool)"
      ]
     },
     "execution_count": 9,
     "metadata": {},
     "output_type": "execute_result"
    }
   ],
   "source": [
    "Y_clone = clone.apply(cloned_params, X)\n",
    "Y_clone == Y"
   ]
  },
  {
   "cell_type": "markdown",
   "id": "e017da97",
   "metadata": {
    "origin_pos": 44
   },
   "source": [
    "## Summary\n",
    "\n",
    "The `save` and `load` functions can be used to perform file I/O for tensor objects.\n",
    "We can save and load the entire sets of parameters for a network via a parameter dictionary.\n",
    "Saving the architecture has to be done in code rather than in parameters.\n",
    "\n",
    "## Exercises\n",
    "\n",
    "1. Even if there is no need to deploy trained models to a different device, what are the practical benefits of storing model parameters?\n",
    "1. Assume that we want to reuse only parts of a network to be incorporated into a network of a different architecture. How would you go about using, say the first two layers from a previous network in a new network?\n",
    "1. How would you go about saving the network architecture and parameters? What restrictions would you impose on the architecture?\n"
   ]
  }
 ],
 "metadata": {
  "language_info": {
   "name": "python"
  }
 },
 "nbformat": 4,
 "nbformat_minor": 5
}