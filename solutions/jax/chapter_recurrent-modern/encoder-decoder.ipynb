{
 "cells": [
  {
   "cell_type": "markdown",
   "id": "9af62e36",
   "metadata": {
    "origin_pos": 1
   },
   "source": [
    "# The Encoder-Decoder Architecture\n",
    ":label:`sec_encoder-decoder`\n",
    "\n",
    "In general seq2seq problems \n",
    "like machine translation \n",
    "(:numref:`sec_machine_translation`),\n",
    "inputs and outputs are of varying lengths\n",
    "that are unaligned. \n",
    "The standard approach to handling this sort of data\n",
    "is to design an *encoder-decoder* architecture (:numref:`fig_encoder_decoder`)\n",
    "consisting of two major components:\n",
    "an *encoder* that takes a variable-length sequence as input,\n",
    "and a *decoder* that acts as a conditional language model,\n",
    "taking in the encoded input \n",
    "and the leftwards context of the target sequence \n",
    "and predicting the subsequent token in the target sequence. \n",
    "\n",
    "\n",
    "![The encoder-decoder architecture.](../img/encoder-decoder.svg)\n",
    ":label:`fig_encoder_decoder`\n",
    "\n",
    "Let's take machine translation from English to French as an example.\n",
    "Given an input sequence in English:\n",
    "\"They\", \"are\", \"watching\", \".\",\n",
    "this encoder-decoder architecture\n",
    "first encodes the variable-length input into a state,\n",
    "then decodes the state \n",
    "to generate the translated sequence,\n",
    "token by token, as output:\n",
    "\"Ils\", \"regardent\", \".\".\n",
    "Since the encoder-decoder architecture\n",
    "forms the basis of different seq2seq models\n",
    "in subsequent sections,\n",
    "this section will convert this architecture\n",
    "into an interface that will be implemented later.\n"
   ]
  },
  {
   "cell_type": "code",
   "execution_count": 1,
   "id": "0233a5cb",
   "metadata": {
    "execution": {
     "iopub.execute_input": "2023-02-10T06:32:02.396371Z",
     "iopub.status.busy": "2023-02-10T06:32:02.396116Z",
     "iopub.status.idle": "2023-02-10T06:32:06.670219Z",
     "shell.execute_reply": "2023-02-10T06:32:06.669235Z"
    },
    "origin_pos": 5,
    "tab": [
     "jax"
    ]
   },
   "outputs": [
    {
     "name": "stdout",
     "output_type": "stream",
     "text": [
      "No GPU/TPU found, falling back to CPU. (Set TF_CPP_MIN_LOG_LEVEL=0 and rerun for more info.)\n"
     ]
    }
   ],
   "source": [
    "from flax import linen as nn\n",
    "from d2l import jax as d2l"
   ]
  },
  {
   "cell_type": "markdown",
   "id": "be1baa38",
   "metadata": {
    "origin_pos": 6
   },
   "source": [
    "## (**Encoder**)\n",
    "\n",
    "In the encoder interface,\n",
    "we just specify that\n",
    "the encoder takes variable-length sequences as input `X`.\n",
    "The implementation will be provided \n",
    "by any model that inherits this base `Encoder` class.\n"
   ]
  },
  {
   "cell_type": "code",
   "execution_count": 2,
   "id": "b27afaac",
   "metadata": {
    "execution": {
     "iopub.execute_input": "2023-02-10T06:32:06.674215Z",
     "iopub.status.busy": "2023-02-10T06:32:06.673706Z",
     "iopub.status.idle": "2023-02-10T06:32:06.679478Z",
     "shell.execute_reply": "2023-02-10T06:32:06.678749Z"
    },
    "origin_pos": 10,
    "tab": [
     "jax"
    ]
   },
   "outputs": [],
   "source": [
    "class Encoder(nn.Module):  #@save\n",
    "    \"\"\"The base encoder interface for the encoder-decoder architecture.\"\"\"\n",
    "    def setup(self):\n",
    "        raise NotImplementedError\n",
    "\n",
    "    # Later there can be additional arguments (e.g., length excluding padding)\n",
    "    def __call__(self, X, *args):\n",
    "        raise NotImplementedError"
   ]
  },
  {
   "cell_type": "markdown",
   "id": "c34b1c06",
   "metadata": {
    "origin_pos": 11
   },
   "source": [
    "## [**Decoder**]\n",
    "\n",
    "In the following decoder interface,\n",
    "we add an additional `init_state` method\n",
    "to convert the encoder output (`enc_all_outputs`)\n",
    "into the encoded state.\n",
    "Note that this step\n",
    "may require extra inputs,\n",
    "such as the valid length of the input,\n",
    "which was explained\n",
    "in :numref:`sec_machine_translation`.\n",
    "To generate a variable-length sequence token by token,\n",
    "every time the decoder may map an input \n",
    "(e.g., the generated token at the previous time step)\n",
    "and the encoded state \n",
    "into an output token at the current time step.\n"
   ]
  },
  {
   "cell_type": "code",
   "execution_count": 3,
   "id": "476ab1f0",
   "metadata": {
    "execution": {
     "iopub.execute_input": "2023-02-10T06:32:06.682704Z",
     "iopub.status.busy": "2023-02-10T06:32:06.682378Z",
     "iopub.status.idle": "2023-02-10T06:32:06.687273Z",
     "shell.execute_reply": "2023-02-10T06:32:06.686553Z"
    },
    "origin_pos": 15,
    "tab": [
     "jax"
    ]
   },
   "outputs": [],
   "source": [
    "class Decoder(nn.Module):  #@save\n",
    "    \"\"\"The base decoder interface for the encoder-decoder architecture.\"\"\"\n",
    "    def setup(self):\n",
    "        raise NotImplementedError\n",
    "\n",
    "    # Later there can be additional arguments (e.g., length excluding padding)\n",
    "    def init_state(self, enc_all_outputs, *args):\n",
    "        raise NotImplementedError\n",
    "\n",
    "    def __call__(self, X, state):\n",
    "        raise NotImplementedError"
   ]
  },
  {
   "cell_type": "markdown",
   "id": "9b4b5121",
   "metadata": {
    "origin_pos": 16
   },
   "source": [
    "## [**Putting the Encoder and Decoder Together**]\n",
    "\n",
    "In the forward propagation,\n",
    "the output of the encoder\n",
    "is used to produce the encoded state,\n",
    "and this state will be further used\n",
    "by the decoder as one of its input.\n"
   ]
  },
  {
   "cell_type": "code",
   "execution_count": 4,
   "id": "adb0fdfe",
   "metadata": {
    "execution": {
     "iopub.execute_input": "2023-02-10T06:32:06.689986Z",
     "iopub.status.busy": "2023-02-10T06:32:06.689655Z",
     "iopub.status.idle": "2023-02-10T06:32:06.695438Z",
     "shell.execute_reply": "2023-02-10T06:32:06.694680Z"
    },
    "origin_pos": 19,
    "tab": [
     "jax"
    ]
   },
   "outputs": [],
   "source": [
    "class EncoderDecoder(d2l.Classifier):  #@save\n",
    "    \"\"\"The base class for the encoder-decoder architecture.\"\"\"\n",
    "    encoder: nn.Module\n",
    "    decoder: nn.Module\n",
    "    training: bool\n",
    "\n",
    "    def __call__(self, enc_X, dec_X, *args):\n",
    "        enc_all_outputs = self.encoder(enc_X, *args, training=self.training)\n",
    "        dec_state = self.decoder.init_state(enc_all_outputs, *args)\n",
    "        # Return decoder output only\n",
    "        return self.decoder(dec_X, dec_state, training=self.training)[0]"
   ]
  },
  {
   "cell_type": "markdown",
   "id": "74a6c03e",
   "metadata": {
    "origin_pos": 20
   },
   "source": [
    "In the next section, \n",
    "we will see how to apply RNNs to design \n",
    "seq2seq models based on \n",
    "this encoder-decoder architecture.\n",
    "\n",
    "\n",
    "## Summary\n",
    "\n",
    "Encoder-decoder architectures\n",
    "can handle inputs and outputs \n",
    "that both consist of variable-length sequences\n",
    "and thus are suitable for seq2seq problems \n",
    "such as machine translation.\n",
    "The encoder takes a variable-length sequence as input \n",
    "and transforms it into a state with a fixed shape.\n",
    "The decoder maps the encoded state of a fixed shape\n",
    "to a variable-length sequence.\n",
    "\n",
    "\n",
    "## Exercises\n",
    "\n",
    "1. Suppose that we use neural networks to implement the encoder-decoder architecture. Do the encoder and the decoder have to be the same type of neural network?  \n",
    "1. Besides machine translation, can you think of another application where the encoder-decoder architecture can be applied?\n"
   ]
  }
 ],
 "metadata": {
  "language_info": {
   "name": "python"
  }
 },
 "nbformat": 4,
 "nbformat_minor": 5
}