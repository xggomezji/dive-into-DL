{
 "cells": [
  {
   "cell_type": "markdown",
   "id": "bcf59068",
   "metadata": {
    "origin_pos": 1
   },
   "source": [
    "# Documentation\n"
   ]
  },
  {
   "cell_type": "code",
   "execution_count": 1,
   "id": "dc9955a0",
   "metadata": {
    "execution": {
     "iopub.execute_input": "2023-02-10T06:29:26.232316Z",
     "iopub.status.busy": "2023-02-10T06:29:26.232015Z",
     "iopub.status.idle": "2023-02-10T06:29:26.736683Z",
     "shell.execute_reply": "2023-02-10T06:29:26.735839Z"
    },
    "origin_pos": 8,
    "tab": [
     "jax"
    ]
   },
   "outputs": [],
   "source": [
    "import jax"
   ]
  },
  {
   "cell_type": "markdown",
   "id": "b390a3b0",
   "metadata": {
    "origin_pos": 9
   },
   "source": [
    "## Functions and Classes in a Module\n",
    "\n",
    "In order to know which functions and classes can be called in a module,\n",
    "we invoke the `dir` function. For instance, we can\n",
    "(**query all properties in the module for generating random numbers**):\n"
   ]
  },
  {
   "cell_type": "code",
   "execution_count": 2,
   "id": "d34b0eeb",
   "metadata": {
    "execution": {
     "iopub.execute_input": "2023-02-10T06:29:26.740270Z",
     "iopub.status.busy": "2023-02-10T06:29:26.739928Z",
     "iopub.status.idle": "2023-02-10T06:29:26.744229Z",
     "shell.execute_reply": "2023-02-10T06:29:26.743611Z"
    },
    "origin_pos": 13,
    "tab": [
     "jax"
    ]
   },
   "outputs": [
    {
     "name": "stdout",
     "output_type": "stream",
     "text": [
      "['KeyArray', 'PRNGKey', 'PRNGKeyArray', '_PRNGKeyArray', '__builtins__', '__cached__', '__doc__', '__file__', '__loader__', '__name__', '__package__', '__spec__', 'ball', 'bernoulli', 'beta', 'categorical', 'cauchy', 'choice', 'default_prng_impl', 'dirichlet', 'double_sided_maxwell', 'exponential', 'fold_in', 'gamma', 'generalized_normal', 'gumbel', 'key_data', 'laplace', 'loggamma', 'logistic', 'maxwell', 'multivariate_normal', 'normal', 'orthogonal', 'pareto', 'permutation', 'poisson', 'rademacher', 'randint', 'random_gamma_p', 'rbg_key', 'shuffle', 'split', 't', 'threefry2x32_key', 'threefry2x32_p', 'threefry_2x32', 'truncated_normal', 'typing', 'uniform', 'unsafe_rbg_key', 'weibull_min']\n"
     ]
    }
   ],
   "source": [
    "print(dir(jax.random))"
   ]
  },
  {
   "cell_type": "markdown",
   "id": "bd3fd13b",
   "metadata": {
    "origin_pos": 14
   },
   "source": [
    "Generally, we can ignore functions that start and end with `__` (special objects in Python) \n",
    "or functions that start with a single `_`(usually internal functions). \n",
    "Based on the remaining function or attribute names, \n",
    "we might hazard a guess that this module offers \n",
    "various methods for generating random numbers, \n",
    "including sampling from the uniform distribution (`uniform`), \n",
    "normal distribution (`normal`), and multinomial distribution (`multinomial`).\n",
    "\n",
    "## Specific Functions and Classes\n",
    "\n",
    "For more specific instructions on how to use a given function or class,\n",
    "we can invoke the  `help` function. As an example, let's\n",
    "[**explore the usage instructions for tensors' `ones` function**].\n"
   ]
  },
  {
   "cell_type": "code",
   "execution_count": 3,
   "id": "b848a8f3",
   "metadata": {
    "execution": {
     "iopub.execute_input": "2023-02-10T06:29:26.746958Z",
     "iopub.status.busy": "2023-02-10T06:29:26.746712Z",
     "iopub.status.idle": "2023-02-10T06:29:26.750841Z",
     "shell.execute_reply": "2023-02-10T06:29:26.750181Z"
    },
    "origin_pos": 18,
    "tab": [
     "jax"
    ]
   },
   "outputs": [
    {
     "name": "stdout",
     "output_type": "stream",
     "text": [
      "Help on function ones in module jax._src.numpy.lax_numpy:\n",
      "\n",
      "ones(shape: Any, dtype: Union[Any, str, numpy.dtype, jax._src.SupportsDType, NoneType] = None) -> jax.Array\n",
      "    Return a new array of given shape and type, filled with ones.\n",
      "    \n",
      "    LAX-backend implementation of :func:`numpy.ones`.\n",
      "    \n",
      "    *Original docstring below.*\n",
      "    \n",
      "    Parameters\n",
      "    ----------\n",
      "    shape : int or sequence of ints\n",
      "        Shape of the new array, e.g., ``(2, 3)`` or ``2``.\n",
      "    dtype : data-type, optional\n",
      "        The desired data-type for the array, e.g., `numpy.int8`.  Default is\n",
      "        `numpy.float64`.\n",
      "    \n",
      "    Returns\n",
      "    -------\n",
      "    out : ndarray\n",
      "        Array of ones with the given shape, dtype, and order.\n",
      "\n"
     ]
    }
   ],
   "source": [
    "help(jax.numpy.ones)"
   ]
  },
  {
   "cell_type": "markdown",
   "id": "f222d208",
   "metadata": {
    "origin_pos": 19
   },
   "source": [
    "From the documentation, we can see that the `ones` function \n",
    "creates a new tensor with the specified shape \n",
    "and sets all the elements to the value of 1. \n",
    "Whenever possible, you should (**run a quick test**) \n",
    "to confirm your interpretation:\n"
   ]
  },
  {
   "cell_type": "code",
   "execution_count": 4,
   "id": "a44b5314",
   "metadata": {
    "execution": {
     "iopub.execute_input": "2023-02-10T06:29:26.753650Z",
     "iopub.status.busy": "2023-02-10T06:29:26.753405Z",
     "iopub.status.idle": "2023-02-10T06:29:27.050056Z",
     "shell.execute_reply": "2023-02-10T06:29:27.049245Z"
    },
    "origin_pos": 23,
    "tab": [
     "jax"
    ]
   },
   "outputs": [
    {
     "name": "stdout",
     "output_type": "stream",
     "text": [
      "No GPU/TPU found, falling back to CPU. (Set TF_CPP_MIN_LOG_LEVEL=0 and rerun for more info.)\n"
     ]
    },
    {
     "data": {
      "text/plain": [
       "Array([1., 1., 1., 1.], dtype=float32)"
      ]
     },
     "execution_count": 4,
     "metadata": {},
     "output_type": "execute_result"
    }
   ],
   "source": [
    "jax.numpy.ones(4)"
   ]
  },
  {
   "cell_type": "markdown",
   "id": "2a1eb3f3",
   "metadata": {
    "origin_pos": 24
   },
   "source": [
    "In the Jupyter notebook, we can use `?` to display the document in another\n",
    "window. For example, `list?` will create content\n",
    "that is almost identical to `help(list)`,\n",
    "displaying it in a new browser window.\n",
    "In addition, if we use two question marks, such as `list??`,\n",
    "the Python code implementing the function will also be displayed.\n",
    "\n",
    "The official documentation provides plenty of descriptions and examples that are beyond this book. \n",
    "Our emphasis lies on covering important use cases \n",
    "that will allow you to get started quickly with practical problems, \n",
    "rather than completeness of coverage. \n",
    "We also encourage you to study the source code of the libraries \n",
    "to see examples of high quality implementations for production code. \n",
    "By doing this you will become a better engineer \n",
    "in addition to becoming a better scientist.\n"
   ]
  }
 ],
 "metadata": {
  "language_info": {
   "name": "python"
  }
 },
 "nbformat": 4,
 "nbformat_minor": 5
}